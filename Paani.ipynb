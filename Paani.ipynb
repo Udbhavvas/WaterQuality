{
 "cells": [
  {
   "cell_type": "code",
   "execution_count": null,
   "metadata": {},
   "outputs": [],
   "source": [
    "import os\n",
    "import numpy as np\n",
    "import matplotlib.pyplot as plt\n",
    "import matplotlib.image as mpimg\n",
    "from sklearn.utils import shuffle\n",
    "from sklearn.model_selection import train_test_split\n",
    "import pandas as pd\n",
    "import ntpath\n",
    "import random\n",
    "import SVM"
   ]
  },
  {
   "cell_type": "code",
   "execution_count": null,
   "metadata": {},
   "outputs": [],
   "source": [
    "columns = ['ph', 'Hardness', 'Solids', 'Chloramines', 'Sulfate', 'Conductivity', 'Organic_carbon', 'Trihalomethanes', 'Turbidity', 'Potability']\n",
    "data = pd.read_csv('water_potability.csv', names=columns, skiprows=1)\n",
    "\n",
    "pd.set_option('display.max_colwidth', None)\n",
    "data.head()"
   ]
  },
  {
   "cell_type": "code",
   "execution_count": null,
   "metadata": {},
   "outputs": [],
   "source": [
    "data = data.sample(frac=1)\n",
    "# Extract labels (potability)\n",
    "pot = data[\"Potability\"]\n",
    "\n",
    "# Deletes potability from data (data is now only inputs)\n",
    "data = data.drop(\"Potability\", axis=1)\n",
    "\n",
    "# Converts pandas dataframe to numpy array\n",
    "data_arr = data.to_numpy()\n",
    "\n",
    "# x will be input\n",
    "# y will be label\n",
    "x = []\n",
    "y = []\n",
    "\n",
    "# Go through each column, delete invalid x values\n",
    "i = 0\n",
    "while i < len(data_arr):\n",
    "    if True not in np.isnan(data_arr[i]):\n",
    "        x.append(data_arr[i])\n",
    "        y.append(pot[i])\n",
    "    i += 1\n",
    "\n",
    "\n",
    "nans = np.isnan(y)\n",
    "if True in nans:\n",
    "    print(\"NaN present in labels\")\n",
    "    exit(1)\n"
   ]
  },
  {
   "cell_type": "code",
   "execution_count": null,
   "metadata": {},
   "outputs": [],
   "source": [
    "# Split data into 4 blocks, concatenate first 3 blocks for training and use D for testing\n",
    "x = np.array(x)\n",
    "y = np.array(y)\n",
    "split_array = np.array_split(x, 4)\n",
    "A = split_array[0]\n",
    "B = split_array[1]\n",
    "C = split_array[2]\n",
    "D = split_array[3]\n",
    "x = np.concatenate((A,B,C),axis = 0)"
   ]
  },
  {
   "cell_type": "code",
   "execution_count": null,
   "metadata": {},
   "outputs": [],
   "source": [
    "def svm_train(x, y, learning_rate=0.01, num_epochs=1000, C=1.0):\n",
    "    num_samples, num_features = x.shape\n",
    "    w = np.zeros(num_features)\n",
    "    b = 0\n",
    "\n",
    "    for epoch in range(num_epochs):\n",
    "        for i in range(num_samples):\n",
    "            if y[i] * (np.dot(x[i], w) - b) >= 1:\n",
    "                w -= learning_rate * (2 * C * w)\n",
    "            else:\n",
    "                w -= learning_rate * (2 * C * w - np.dot(x[i], y[i]))\n",
    "                b -= learning_rate * y[i]\n",
    "    \n",
    "    return w, b"
   ]
  },
  {
   "cell_type": "code",
   "execution_count": null,
   "metadata": {},
   "outputs": [],
   "source": [
    "def svm_predict(x, w, b):\n",
    "    scores = np.dot(x, w) - b\n",
    "    predictions = np.sign(scores)\n",
    "    return predictions"
   ]
  },
  {
   "cell_type": "code",
   "execution_count": null,
   "metadata": {},
   "outputs": [],
   "source": [
    "\n",
    "w, b = svm_train(x, y, learning_rate=0.01, num_epochs=1000, C=1.0)\n",
    "\n",
    "svm.reset()"
   ]
  },
  {
   "cell_type": "code",
   "execution_count": null,
   "metadata": {},
   "outputs": [],
   "source": [
    "y_pred = svm_predict(D, w, b)\n",
    "print(y_pred)\n"
   ]
  },
  {
   "cell_type": "code",
   "execution_count": null,
   "metadata": {},
   "outputs": [],
   "source": []
  }
 ],
 "metadata": {
  "kernelspec": {
   "display_name": "Python 3",
   "language": "python",
   "name": "python3"
  },
  "language_info": {
   "codemirror_mode": {
    "name": "ipython",
    "version": 3
   },
   "file_extension": ".py",
   "mimetype": "text/x-python",
   "name": "python",
   "nbconvert_exporter": "python",
   "pygments_lexer": "ipython3",
   "version": "3.10.9"
  },
  "orig_nbformat": 4
 },
 "nbformat": 4,
 "nbformat_minor": 2
}
